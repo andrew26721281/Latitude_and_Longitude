{
 "cells": [
  {
   "cell_type": "code",
   "execution_count": 88,
   "metadata": {},
   "outputs": [],
   "source": [
    "def Latitude_and_Longitude(location):\n",
    "    location=\"https://www.google.com.tw/maps/place/\"+location\n",
    "    # 指定開啟網址\n",
    "    driver.get(location)\n",
    "    time.sleep(5)\n",
    "    string=driver.current_url.split('@')[1].split(',')\n",
    "    Latitude=string[0]#緯度\n",
    "    Longitude=string[1]#經度\n",
    "    print(location)\n",
    "    print(Latitude,Longitude)"
   ]
  },
  {
   "cell_type": "code",
   "execution_count": 89,
   "metadata": {
    "scrolled": true
   },
   "outputs": [
    {
     "name": "stdout",
     "output_type": "stream",
     "text": [
      "https://www.google.com.tw/maps/place/臺北市松山區松河街\n",
      "25.0512503 121.573808\n",
      "https://www.google.com.tw/maps/place/臺北市中正區忠孝東路七段\n",
      "25.0519301 121.6040233\n",
      "https://www.google.com.tw/maps/place/臺北市北投區大業路\n",
      "25.1285349 121.4954234\n",
      "https://www.google.com.tw/maps/place/臺北市中山區堤頂大道一段\n",
      "25.0673306 121.5703179\n"
     ]
    }
   ],
   "source": [
    "import openpyxl\n",
    "import time\n",
    "from selenium import webdriver\n",
    "from selenium.webdriver.chrome.options import Options\n",
    "from selenium.webdriver.support.ui import WebDriverWait\n",
    "\n",
    "wb = openpyxl.load_workbook('road.xlsx')\n",
    "wb.active = 0\n",
    "ws = wb.active\n",
    "\n",
    "options = Options()\n",
    "options.add_argument(\"--disable-notifications\")\n",
    "driver = webdriver.Chrome('../chromedriver', options=options)\n",
    "\n",
    "num=2#從第二行開始\n",
    "for row in ws:\n",
    "    a='A'+str(num)\n",
    "\n",
    "    location=ws[a].value\n",
    "    \n",
    "    Latitude_and_Longitude(location)\n",
    "    if num==5:\n",
    "            break        \n",
    "    num=num+1\n",
    "    "
   ]
  },
  {
   "cell_type": "code",
   "execution_count": null,
   "metadata": {},
   "outputs": [],
   "source": []
  }
 ],
 "metadata": {
  "kernelspec": {
   "display_name": "Python 3",
   "language": "python",
   "name": "python3"
  },
  "language_info": {
   "codemirror_mode": {
    "name": "ipython",
    "version": 3
   },
   "file_extension": ".py",
   "mimetype": "text/x-python",
   "name": "python",
   "nbconvert_exporter": "python",
   "pygments_lexer": "ipython3",
   "version": "3.7.6"
  }
 },
 "nbformat": 4,
 "nbformat_minor": 4
}
